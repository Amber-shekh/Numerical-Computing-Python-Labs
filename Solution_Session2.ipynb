{
  "nbformat": 4,
  "nbformat_minor": 0,
  "metadata": {
    "colab": {
      "provenance": [],
      "toc_visible": true
    },
    "kernelspec": {
      "name": "python3",
      "display_name": "Python 3"
    },
    "language_info": {
      "name": "python"
    }
  },
  "cells": [
    {
      "cell_type": "code",
      "execution_count": 5,
      "metadata": {
        "colab": {
          "base_uri": "https://localhost:8080/",
          "height": 206
        },
        "id": "C4sGPeMEPfQ8",
        "outputId": "cd792a5e-4c5c-4cfc-8e2e-47c620b8532f"
      },
      "outputs": [
        {
          "output_type": "execute_result",
          "data": {
            "text/plain": [
              "   Time  No of vehicles\n",
              "0     0             9.0\n",
              "1     1             6.0\n",
              "2     2             9.0\n",
              "3     3             8.0\n",
              "4     4            11.0"
            ],
            "text/html": [
              "\n",
              "  <div id=\"df-8814dfaa-5d81-4c7b-8b85-dee18a4cf080\">\n",
              "    <div class=\"colab-df-container\">\n",
              "      <div>\n",
              "<style scoped>\n",
              "    .dataframe tbody tr th:only-of-type {\n",
              "        vertical-align: middle;\n",
              "    }\n",
              "\n",
              "    .dataframe tbody tr th {\n",
              "        vertical-align: top;\n",
              "    }\n",
              "\n",
              "    .dataframe thead th {\n",
              "        text-align: right;\n",
              "    }\n",
              "</style>\n",
              "<table border=\"1\" class=\"dataframe\">\n",
              "  <thead>\n",
              "    <tr style=\"text-align: right;\">\n",
              "      <th></th>\n",
              "      <th>Time</th>\n",
              "      <th>No of vehicles</th>\n",
              "    </tr>\n",
              "  </thead>\n",
              "  <tbody>\n",
              "    <tr>\n",
              "      <th>0</th>\n",
              "      <td>0</td>\n",
              "      <td>9.0</td>\n",
              "    </tr>\n",
              "    <tr>\n",
              "      <th>1</th>\n",
              "      <td>1</td>\n",
              "      <td>6.0</td>\n",
              "    </tr>\n",
              "    <tr>\n",
              "      <th>2</th>\n",
              "      <td>2</td>\n",
              "      <td>9.0</td>\n",
              "    </tr>\n",
              "    <tr>\n",
              "      <th>3</th>\n",
              "      <td>3</td>\n",
              "      <td>8.0</td>\n",
              "    </tr>\n",
              "    <tr>\n",
              "      <th>4</th>\n",
              "      <td>4</td>\n",
              "      <td>11.0</td>\n",
              "    </tr>\n",
              "  </tbody>\n",
              "</table>\n",
              "</div>\n",
              "      <button class=\"colab-df-convert\" onclick=\"convertToInteractive('df-8814dfaa-5d81-4c7b-8b85-dee18a4cf080')\"\n",
              "              title=\"Convert this dataframe to an interactive table.\"\n",
              "              style=\"display:none;\">\n",
              "        \n",
              "  <svg xmlns=\"http://www.w3.org/2000/svg\" height=\"24px\"viewBox=\"0 0 24 24\"\n",
              "       width=\"24px\">\n",
              "    <path d=\"M0 0h24v24H0V0z\" fill=\"none\"/>\n",
              "    <path d=\"M18.56 5.44l.94 2.06.94-2.06 2.06-.94-2.06-.94-.94-2.06-.94 2.06-2.06.94zm-11 1L8.5 8.5l.94-2.06 2.06-.94-2.06-.94L8.5 2.5l-.94 2.06-2.06.94zm10 10l.94 2.06.94-2.06 2.06-.94-2.06-.94-.94-2.06-.94 2.06-2.06.94z\"/><path d=\"M17.41 7.96l-1.37-1.37c-.4-.4-.92-.59-1.43-.59-.52 0-1.04.2-1.43.59L10.3 9.45l-7.72 7.72c-.78.78-.78 2.05 0 2.83L4 21.41c.39.39.9.59 1.41.59.51 0 1.02-.2 1.41-.59l7.78-7.78 2.81-2.81c.8-.78.8-2.07 0-2.86zM5.41 20L4 18.59l7.72-7.72 1.47 1.35L5.41 20z\"/>\n",
              "  </svg>\n",
              "      </button>\n",
              "      \n",
              "  <style>\n",
              "    .colab-df-container {\n",
              "      display:flex;\n",
              "      flex-wrap:wrap;\n",
              "      gap: 12px;\n",
              "    }\n",
              "\n",
              "    .colab-df-convert {\n",
              "      background-color: #E8F0FE;\n",
              "      border: none;\n",
              "      border-radius: 50%;\n",
              "      cursor: pointer;\n",
              "      display: none;\n",
              "      fill: #1967D2;\n",
              "      height: 32px;\n",
              "      padding: 0 0 0 0;\n",
              "      width: 32px;\n",
              "    }\n",
              "\n",
              "    .colab-df-convert:hover {\n",
              "      background-color: #E2EBFA;\n",
              "      box-shadow: 0px 1px 2px rgba(60, 64, 67, 0.3), 0px 1px 3px 1px rgba(60, 64, 67, 0.15);\n",
              "      fill: #174EA6;\n",
              "    }\n",
              "\n",
              "    [theme=dark] .colab-df-convert {\n",
              "      background-color: #3B4455;\n",
              "      fill: #D2E3FC;\n",
              "    }\n",
              "\n",
              "    [theme=dark] .colab-df-convert:hover {\n",
              "      background-color: #434B5C;\n",
              "      box-shadow: 0px 1px 3px 1px rgba(0, 0, 0, 0.15);\n",
              "      filter: drop-shadow(0px 1px 2px rgba(0, 0, 0, 0.3));\n",
              "      fill: #FFFFFF;\n",
              "    }\n",
              "  </style>\n",
              "\n",
              "      <script>\n",
              "        const buttonEl =\n",
              "          document.querySelector('#df-8814dfaa-5d81-4c7b-8b85-dee18a4cf080 button.colab-df-convert');\n",
              "        buttonEl.style.display =\n",
              "          google.colab.kernel.accessAllowed ? 'block' : 'none';\n",
              "\n",
              "        async function convertToInteractive(key) {\n",
              "          const element = document.querySelector('#df-8814dfaa-5d81-4c7b-8b85-dee18a4cf080');\n",
              "          const dataTable =\n",
              "            await google.colab.kernel.invokeFunction('convertToInteractive',\n",
              "                                                     [key], {});\n",
              "          if (!dataTable) return;\n",
              "\n",
              "          const docLinkHtml = 'Like what you see? Visit the ' +\n",
              "            '<a target=\"_blank\" href=https://colab.research.google.com/notebooks/data_table.ipynb>data table notebook</a>'\n",
              "            + ' to learn more about interactive tables.';\n",
              "          element.innerHTML = '';\n",
              "          dataTable['output_type'] = 'display_data';\n",
              "          await google.colab.output.renderOutput(dataTable, element);\n",
              "          const docLink = document.createElement('div');\n",
              "          docLink.innerHTML = docLinkHtml;\n",
              "          element.appendChild(docLink);\n",
              "        }\n",
              "      </script>\n",
              "    </div>\n",
              "  </div>\n",
              "  "
            ]
          },
          "metadata": {},
          "execution_count": 5
        }
      ],
      "source": [
        "import pandas as pd\n",
        "import numpy as np\n",
        "import matplotlib.pyplot as plt\n",
        "df=pd.read_excel(\"/traffic.csv\")\n",
        "df.head()"
      ]
    },
    {
      "cell_type": "code",
      "source": [
        "x=df[\"Time\"].values\n",
        "y=df[\"No of vehicles\"].values"
      ],
      "metadata": {
        "id": "d_cKMnkGlFUe"
      },
      "execution_count": 24,
      "outputs": []
    },
    {
      "cell_type": "code",
      "source": [
        "# Function to calculate Lagrange polynomial\n",
        "def lagrange_poly(x, y):\n",
        "    n = len(x)\n",
        "    p = np.poly1d(0.0)\n",
        "    for i in range(n):\n",
        "        L = np.poly1d(y[i]) \n",
        "        for j in range(n):\n",
        "            if j != i:\n",
        "                L *= np.poly1d([1.0, -x[j]]) / (x[i] - x[j])\n",
        "        p += L\n",
        "    return p\n",
        "\n",
        "# Calculate Lagrange polynomial\n",
        "p = lagrange_poly(x[0:7], y[0:7])\n",
        "print(p)"
      ],
      "metadata": {
        "colab": {
          "base_uri": "https://localhost:8080/"
        },
        "id": "tUVtgDwUQSYY",
        "outputId": "6ae48e24-f6a6-4439-863b-a8ca279a2d3d"
      },
      "execution_count": 9,
      "outputs": [
        {
          "output_type": "stream",
          "name": "stdout",
          "text": [
            "         6         5         4      3         2\n",
            "0.07778 x - 1.433 x + 10.03 x - 33 x + 50.89 x - 29.57 x + 9\n"
          ]
        }
      ]
    },
    {
      "cell_type": "code",
      "source": [
        "No_of_vehicles=p(3.5) # vehicles at 3.5 hours"
      ],
      "metadata": {
        "id": "lQRJjtbMRVn6"
      },
      "execution_count": 12,
      "outputs": []
    },
    {
      "cell_type": "code",
      "source": [
        "# Plot the Lagrange Polynomial and the data points\n",
        "x_new = np.linspace(0, 7, 100)\n",
        "fig = plt.figure(figsize = (10,8))\n",
        "plt.plot(x_new, p(x_new), 'b',x[0:7], y[0:7], 'ro')\n",
        "plt.plot(3.5, No_of_vehicles, 'go', markersize=10)\n",
        "plt.title('Lagrange Polynomial')\n",
        "plt.grid()\n",
        "plt.xlabel('x')\n",
        "plt.ylabel('y')\n",
        "plt.show()\n"
      ],
      "metadata": {
        "colab": {
          "base_uri": "https://localhost:8080/",
          "height": 513
        },
        "id": "H6LScbnCqugH",
        "outputId": "f3da2895-5b88-498c-bbd8-b660029c2448"
      },
      "execution_count": 22,
      "outputs": [
        {
          "output_type": "display_data",
          "data": {
            "text/plain": [
              "<Figure size 720x576 with 1 Axes>"
            ],
            "image/png": "[encoded data removed]"
          },
          "metadata": {
            "needs_background": "light"
          }
        }
      ]
    },
    {
      "cell_type": "code",
      "source": [
        "import numpy as np\n",
        "def divided_difference_table(x, y):\n",
        "    n = len(x)\n",
        "    F = [[0] * n for i in range(n)]\n",
        "    for i in range(n):\n",
        "        F[i][0] = y[i]\n",
        "    for j in range(1, n):\n",
        "        for i in range(j, n):\n",
        "            F[i][j] = (F[i][j-1] - F[i-1][j-1]) / (x[i] - x[i-j])\n",
        "    return F\n",
        "def newton_div_dif_poly(x,y):\n",
        "   F=divided_difference_table(x,y) # Saving divided difference in a variable F\n",
        "   n=len(x)\n",
        "   prod=np.poly1d(1)\n",
        "   N=np.poly1d(F[0][0])\n",
        "   for i in range(1,n):\n",
        "     prod=np.poly1d(x[0:i],True)\n",
        "     N+=np.poly1d(F[i][i]*(prod.c))\n",
        "     \n",
        "  \n",
        "   \n",
        "   return N\n",
        "\n",
        "\n",
        "N=newton_div_dif_poly(x[0:7], y[0:7])"
      ],
      "metadata": {
        "id": "bkwTyxB-qaOC"
      },
      "execution_count": 33,
      "outputs": []
    },
    {
      "cell_type": "code",
      "source": [
        "# Plot the Lagrange Polynomial and the data points\n",
        "x_new = np.linspace(0, 7, 100)\n",
        "fig = plt.figure(figsize = (10,8))\n",
        "plt.plot(x_new, N(x_new), 'b',x[0:7], y[0:7], 'ro')\n",
        "plt.plot(3.5, No_of_vehicles, 'go', markersize=10)\n",
        "plt.title('Lagrange Polynomial')\n",
        "plt.grid()\n",
        "plt.xlabel('x')\n",
        "plt.ylabel('y')\n",
        "plt.show()\n"
      ],
      "metadata": {
        "colab": {
          "base_uri": "https://localhost:8080/",
          "height": 513
        },
        "id": "xP2LQESbuJFb",
        "outputId": "41aa40d7-00b2-45e2-ed90-baedc8b7bbd5"
      },
      "execution_count": 34,
      "outputs": [
        {
          "output_type": "display_data",
          "data": {
            "text/plain": [
              "<Figure size 720x576 with 1 Axes>"
            ],
            "image/png": "[encoded data removed]"
          },
          "metadata": {
            "needs_background": "light"
          }
        }
      ]
    },
    {
      "cell_type": "code",
      "source": [],
      "metadata": {
        "id": "ha4EXz53uo8c"
      },
      "execution_count": null,
      "outputs": []
    }
  ]
}