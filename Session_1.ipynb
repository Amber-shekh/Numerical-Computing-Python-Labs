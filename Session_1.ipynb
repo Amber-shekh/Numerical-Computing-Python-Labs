{
  "nbformat": 4,
  "nbformat_minor": 0,
  "metadata": {
    "colab": {
      "provenance": []
    },
    "kernelspec": {
      "name": "python3",
      "display_name": "Python 3"
    },
    "language_info": {
      "name": "python"
    }
  },
  "cells": [
    {
      "cell_type": "markdown",
      "source": [
        "**Lab Task 1**: Plot all the given functions to observe the roots by visualization, fill the table by your visual guess of root. We have plotted one function for you.</br>\n",
        "1) $f(x)=cos(x)-1.3x$</br>\n",
        "2) $f(x)=xcos(x)-2x^2+3x-1$</br>\n",
        "3) $f(x)=2xcos(2x)-(x+1)^2$\n",
        "\n",
        "\n",
        "\n"
      ],
      "metadata": {
        "id": "qZ_rI4KdX8n4"
      }
    },
    {
      "cell_type": "code",
      "execution_count": null,
      "metadata": {
        "id": "uh4QtmQdWDYr"
      },
      "outputs": [],
      "source": [
        "\n",
        "import numpy as np\n",
        "from matplotlib import pyplot as plt\n",
        "\n",
        "plt.rcParams[\"figure.figsize\"] = [7.50, 7.50]\n",
        "\n",
        "def f(x):\n",
        "    return (x**2-10*np.cos(x))\n",
        "\n",
        "x = np.linspace(-10,10 , 1000)\n",
        "plt.plot(x,f(x), color='red')\n",
        "plt.hlines(y=0,xmin=-10,xmax=10,color='blue')\n",
        "plt.show()\n"
      ]
    },
    {
      "cell_type": "markdown",
      "source": [
        "**Lab Task 2**: Complete the missing code of bisection method accordding to the explained algorithm and find root of given problems by bisection method according to the instructions given in table.</br> \n",
        "1) $f1(x)=cos(x)-1.3x$</br>\n",
        "2) $f2(x)=xcos(x)-2x^2+3x-1$</br>\n",
        "3) $f3(x)=2xcos(2x)-(x+1)^2$\n"
      ],
      "metadata": {
        "id": "6ayAthxGg8-o"
      }
    },
    {
      "cell_type": "code",
      "source": [
        "import numpy as np\n",
        "from tabulate import tabulate\n",
        "\n",
        "## module Bisection\n",
        "''' root = bisection(func, x1, x2, tol=0.0001, max_iter=100):.\n",
        "    Finds a root of f(x) = 0 by bisection.\n",
        "    The root must be bracketed in (x1,x2).\n",
        "    \n",
        "'''    \n",
        "\n",
        "def bisection(func, x1, x2, tol=0.0001, max_iter=100):\n",
        "    if func(x1) * func(x2) >= 0:\n",
        "        return  \"Error: Choose different interval, function should have different signs at the interval endpoints.\"\n",
        "    data=[]\n",
        "    iter = 0\n",
        "    xr = x2\n",
        "    error = tol + 1\n",
        "\n",
        "    while iter < max_iter and error > tol:\n",
        "        xrold = xr\n",
        "        xr = ((x1+x2)/2)\n",
        "        iter += 1\n",
        "        error = abs((xr - xrold) ) \n",
        "\n",
        "        test = func(x1) * func(xr)\n",
        "        # write your code here to replace value of x1 or x2 by xr\n",
        "            \n",
        "        data.append([iter+1,x1,func(x1),x2,func(x2),xr,func(xr),error])\n",
        "    print(tabulate(data,headers=['#','x1','f(x1)','x2','f(x2)','xr','f(xr)',\"error\"],tablefmt=\"github\"))\n",
        "    print('\\nRoot of given function is x=%.9f in n=%d number of iterations with a tolerence=%.4f' %(xr,iter,tol))\n",
        "    \n",
        "    return "
      ],
      "metadata": {
        "id": "ok6gzmxQk5Fl"
      },
      "execution_count": null,
      "outputs": []
    },
    {
      "cell_type": "markdown",
      "source": [
        "**Lab Task 3**: Find root of given problems by Newton Raphson method according to the instructions given in table.</br> \n",
        "1) $f1(x)=cos(x)-1.3x$</br>\n",
        "2) $f2(x)=xcos(x)-2x^2+3x-1$</br>\n",
        "3) $f3(x)=2xcos(2x)-(x+1)^2$\n"
      ],
      "metadata": {
        "id": "UReugRe2wXNw"
      }
    },
    {
      "cell_type": "code",
      "source": [
        "import numpy as np\n",
        "from tabulate import tabulate\n",
        "\n",
        "## module Newton_Raphson\n",
        "''' newton_raphson(func, dfunc, x0, tol=1e-4, max_iter=1000)\n",
        "    Finds a root of f(x) = 0 by newton_raphson.\n",
        "'''    \n",
        "\n",
        "\n",
        "def newton_raphson(func, dfunc, x0, tol=1e-4, max_iter=1000):\n",
        "    xr = x0\n",
        "    data=[]\n",
        "    iter = 0\n",
        "    error = tol + 1\n",
        "    for i in range(max_iter):\n",
        "        iter+=1  \n",
        "        fx = func(xr)\n",
        "        dx = dfunc(xr)\n",
        "        if abs(dx) < tol:\n",
        "           raise Exception(\"Derivative is close to zero!\")\n",
        "        xrold=xr\n",
        "        xr = xr - fx/dx\n",
        "        error=abs(xr-xrold)\n",
        "        data.append([iter,xr,func(xr),error])\n",
        "        if error < tol:\n",
        "           print(tabulate(data,headers=['Iteration','xr','f(xr)',\"error\"],tablefmt=\"github\"))\n",
        "           print('\\nRoot of given function is x=%.9f in n=%d number of iterations with a tolerence=%.4f' %(xr,iter,tol))\n",
        "           return\n",
        "\n",
        "    raise Exception(\"Max iterations reached\")\n"
      ],
      "metadata": {
        "id": "EOH-CMJqw4w1"
      },
      "execution_count": null,
      "outputs": []
    },
    {
      "cell_type": "markdown",
      "source": [
        "**Lab Task 4**: Find root of given problems by using fsolve command of sympy.optimize</br>\n",
        "1) $f1(x)=cos(x)-1.3x$</br>\n",
        "2) $f2(x)=xcos(x)-2x^2+3x-1$</br>\n",
        "3) $f3(x)=2xcos(2x)-(x+1)^2$\n"
      ],
      "metadata": {
        "id": "aAct1HZVTyaT"
      }
    },
    {
      "cell_type": "markdown",
      "source": [
        "**Lab Task 5**: Write program of Secant and False Position method by altering above codes."
      ],
      "metadata": {
        "id": "4KZdiozlUwrV"
      }
    }
  ]
}