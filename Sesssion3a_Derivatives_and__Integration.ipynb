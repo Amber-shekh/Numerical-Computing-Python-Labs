{
  "nbformat": 4,
  "nbformat_minor": 0,
  "metadata": {
    "colab": {
      "provenance": []
    },
    "kernelspec": {
      "name": "python3",
      "display_name": "Python 3"
    },
    "language_info": {
      "name": "python"
    }
  },
  "cells": [
    {
      "cell_type": "markdown",
      "source": [
        "## **Objectives of Session3a_Derivatives_and_Integration:**\n",
        "\n",
        "1-To understand how to take derivatives and integrals by using library functions of python.<br>\n",
        "2-To implement Numerical Differenciation methods to find values of f'(x) for a given table of x and f(x).<br>\n",
        "3-To implement Numerical Integration methods to find values of definite integrals and their error bound by a specific method. "
      ],
      "metadata": {
        "id": "DJ_n7DUfNe1_"
      }
    },
    {
      "cell_type": "markdown",
      "source": [
        "## **How to take derivative in python:**"
      ],
      "metadata": {
        "id": "Udo660Kli4GV"
      }
    },
    {
      "cell_type": "code",
      "execution_count": null,
      "metadata": {
        "id": "9Cf90Q7ihY6r",
        "colab": {
          "base_uri": "https://localhost:8080/"
        },
        "outputId": "6b74d06a-46a6-45d6-e1f6-a8a4d08a4229"
      },
      "outputs": [
        {
          "output_type": "stream",
          "name": "stdout",
          "text": [
            "4*x\n",
            "4.0\n"
          ]
        }
      ],
      "source": [
        "from sympy import* #Call Library of sympy\n",
        "x = symbols('x')   #Make x a symbol  \n",
        "f = 2*x**2+5       #Function to take derivative\n",
        "\n",
        "df = diff(f, x,1)    #diff(f,x,1) is used to take first derivative of f w.r.t x\n",
        "#df = diff(f, x,n)    #diff(f,x,1) is used to take nth derivative of f w.r.t x\n",
        "print(df)\n",
        "print(float(df.subs(x,1))) #df.subs(x,1) is used to substitute value of x=1 in above taken derivative"
      ]
    },
    {
      "cell_type": "code",
      "source": [
        "# another procedure for finding  derivative\n",
        "y=sin(x)-x\n",
        "derivative_y=y.diff(x) #differentiate y w.r.t x\n",
        "print(derivative_y)"
      ],
      "metadata": {
        "id": "R-gXmc_hNzRQ",
        "colab": {
          "base_uri": "https://localhost:8080/"
        },
        "outputId": "5f63d97a-81f0-47a9-d122-ce204e0fece8"
      },
      "execution_count": null,
      "outputs": [
        {
          "output_type": "stream",
          "name": "stdout",
          "text": [
            "cos(x) - 1\n"
          ]
        }
      ]
    },
    {
      "cell_type": "markdown",
      "source": [
        "**How to convert a sympy symbolic expression into numpy function to evaluate it on a point or array**."
      ],
      "metadata": {
        "id": "oxasjMMgjzFs"
      }
    },
    {
      "cell_type": "code",
      "source": [
        "f1=lambdify(x,f) #Now f1 is numpy function\n",
        "print(f1(1)) #f1 at 1, you can also evaluate f1 at an array.\n",
        "df1=lambdify(x,df)\n",
        "print(df1(1)) "
      ],
      "metadata": {
        "id": "zdcizRVAjv1m"
      },
      "execution_count": null,
      "outputs": []
    },
    {
      "cell_type": "markdown",
      "source": [
        "**Task1**\n",
        "```\n",
        "a)Use above two procedures to find the second derivative of f(x)=x**2 exp(-x).\n",
        "b)Convert symbolic expression in part (a) into numpy function.\n",
        "c)Evaluate the numpy function (obtained in part b)at a single value and at an array.\n",
        "\n",
        "\n",
        "\n",
        "```\n",
        "\n",
        "\n"
      ],
      "metadata": {
        "id": "QmakryHVOsXW"
      }
    },
    {
      "cell_type": "markdown",
      "source": [
        "## **Coding of some Numerical differentiation formulae**"
      ],
      "metadata": {
        "id": "nla6-ZUPv497"
      }
    },
    {
      "cell_type": "markdown",
      "source": [
        "### **Code of forward difference formula**\n",
        "\n",
        "### Forward Differnce \n",
        "• $f'(x_0) =\\dfrac{f(x_0+h)-f(x_0)}{h}$\n",
        "\n",
        "### Backward Differnce \n",
        "• $f'(x_0) =\\dfrac{f(x_0)-f(x_0-h)}{h}$\n",
        "\n"
      ],
      "metadata": {
        "id": "fUgK1xJhvtGq"
      }
    },
    {
      "cell_type": "code",
      "source": [
        "# code of forward difference formula.\n",
        "\n",
        "import numpy as np\n",
        "from tabulate import tabulate\n",
        "\n",
        "\n",
        "def forward_diff(x, y):\n",
        "  \n",
        "    # Compute the step size h\n",
        "    h = x[1] - x[0]\n",
        "    data=[]\n",
        "    \n",
        "    # Compute the forward difference approximation\n",
        "    fdf = np.zeros_like(y)\n",
        "    fdf[-1] = (y[-1] - y[-2]) / h  # use backward difference at the end point\n",
        "    for i in range(len(y) - 1):\n",
        "        fdf[i] = (y[i+1] - y[i]) / h\n",
        "        data.append([x[i],y[i],fdf[i]])\n",
        "    data.append([x[-1],y[-1],fdf[-1]])\n",
        "    \n",
        "    print(tabulate(data,headers=['x','f(x)','df(x)/dx'],tablefmt=\"github\"))\n",
        "    \n",
        "    return"
      ],
      "metadata": {
        "id": "0hrO5vGDPdH2"
      },
      "execution_count": null,
      "outputs": []
    },
    {
      "cell_type": "code",
      "source": [
        "# example to run above code\n",
        "x=[0.2,0.4,0.6,0.8]\n",
        "y=[3,3.9,3.98,4.2]\n",
        "forward_diff(x, y)"
      ],
      "metadata": {
        "colab": {
          "base_uri": "https://localhost:8080/"
        },
        "id": "ZsIe3CBW4dND",
        "outputId": "6d524049-c943-4b46-c8ef-fac5325b927e"
      },
      "execution_count": null,
      "outputs": [
        {
          "output_type": "stream",
          "name": "stdout",
          "text": [
            "|   x |   f(x) |   df(x)/dx |\n",
            "|-----|--------|------------|\n",
            "| 0.2 |   3    |        4.5 |\n",
            "| 0.4 |   3.9  |        0.4 |\n",
            "| 0.6 |   3.98 |        1.1 |\n",
            "| 0.8 |   4.2  |        1.1 |\n"
          ]
        }
      ]
    },
    {
      "cell_type": "markdown",
      "source": [
        "**Task 2: Write a code for Backward difference approximation (apply forward difference approximation on first point)**"
      ],
      "metadata": {
        "id": "awmdLwQwhjwq"
      }
    },
    {
      "cell_type": "markdown",
      "source": [
        "### **Code of three point endpoint and three point midpoint formula**\n",
        "### Three-Point Endpoint Formula\n",
        "• $f'(x_0) =\\dfrac{−3f(x_0) + 4f(x_0 + h) - f (x_0 + 2h)}{2h}$\n",
        "### Three-Point Midpoint Formula\n",
        "• $f'(x_0) =\\dfrac{f(x_0+h)-f(x_0-h)}{2h}$"
      ],
      "metadata": {
        "id": "yYBxb8ZC2r_I"
      }
    },
    {
      "cell_type": "code",
      "source": [
        "# code for three point endpoint and three point midpoint formulae for finding f'(x) for an array of x and f(x).\n",
        "import numpy as np\n",
        "\n",
        "def three_point(x, y):\n",
        "  \n",
        "    # Compute the step size h\n",
        "    data=[]\n",
        "    h = x[1] - x[0]\n",
        "    \n",
        "    # Compute the forward difference approximation\n",
        "    tp = np.zeros_like(y)\n",
        "    tp[0]=(-3*y[0]+4*y[1]-y[2])/(2*h) #three point endpoint (left end) formula\n",
        "    tp[-1]=(3*y[-1]-4*y[-2]+y[-3])/(2*h) #three point endpoint (right end) formula\n",
        "\n",
        "    data.append([x[0],y[0],tp[0]])\n",
        "    for i in range(1,len(y)-1):\n",
        "        tp[i] = (y[i+1] - y[i-1]) / (2*h)\n",
        "        data.append([x[i],y[i],tp[i]])\n",
        "    data.append([x[-1],y[-1],tp[-1]])\n",
        "\n",
        "    print(tabulate(data,headers=['x','f(x)','df(x)/dx'],tablefmt=\"github\"))\n",
        "    \n",
        "    \n",
        "    return"
      ],
      "metadata": {
        "id": "zJf2FB865b8C"
      },
      "execution_count": null,
      "outputs": []
    },
    {
      "cell_type": "code",
      "source": [
        "# example to run above code\n",
        "x=[0.2,0.4,0.6,0.8]\n",
        "y=[3,3.9,3.98,4.2]\n",
        "three_point(x, y)\n"
      ],
      "metadata": {
        "colab": {
          "base_uri": "https://localhost:8080/"
        },
        "id": "ZUjr9Q1d7n9j",
        "outputId": "b7d84a70-2499-4296-8331-b190b4b9c998"
      },
      "execution_count": null,
      "outputs": [
        {
          "output_type": "stream",
          "name": "stdout",
          "text": [
            "|   x |   f(x) |   df(x)/dx |\n",
            "|-----|--------|------------|\n",
            "| 0.2 |   3    |       6.55 |\n",
            "| 0.4 |   3.9  |       2.45 |\n",
            "| 0.6 |   3.98 |       0.75 |\n",
            "| 0.8 |   4.2  |       1.45 |\n"
          ]
        }
      ]
    },
    {
      "cell_type": "markdown",
      "source": [
        "**Task 3: \n",
        "Make a code for five point endpoint and midpoint formulae where possible in given table.**:\n"
      ],
      "metadata": {
        "id": "TTIACjqA9Imu"
      }
    },
    {
      "cell_type": "markdown",
      "source": [
        "## **How to take integral in python**"
      ],
      "metadata": {
        "id": "JYP-eo1zrqyp"
      }
    },
    {
      "cell_type": "code",
      "source": [
        "x = symbols('x')   #Make x a symbol  \n",
        "f = 2*x/(x**2-4)      #Function to take integrate\n",
        "\n",
        "I_actual = float(integrate(f, (x,1,1.6)))    #integrate(f,(x,l,u)) is used to take integral of f from l to u\n",
        "print(I_actual)\n",
        "\n",
        "\n"
      ],
      "metadata": {
        "colab": {
          "base_uri": "https://localhost:8080/"
        },
        "id": "BJi5q9oxrz-C",
        "outputId": "ed719bc6-069a-4c72-d75e-5b16ff5e334a"
      },
      "execution_count": null,
      "outputs": [
        {
          "output_type": "stream",
          "name": "stdout",
          "text": [
            "-0.7339691750802008\n"
          ]
        }
      ]
    },
    {
      "cell_type": "markdown",
      "source": [
        "##**Numerical Integration by using Composite Trapezoidal rule**\n",
        "### Trapezoid Rule\n",
        "$$\\int_a^b f(x) dx \\approx \\frac{h}{2}[f(a)+ \\sum_{i=1}^{n-1} {f(x_i)}+f(b)]$$\n"
      ],
      "metadata": {
        "id": "2589Pkzws41z"
      }
    },
    {
      "cell_type": "code",
      "source": [
        "   def comp_trapezoidal_rule(f, a, b, n=1):  #n=1 indicates simple trpezoidal rule\n",
        "     h = (b - a) / n\n",
        "     x = [a + i*h for i in range(n+1)]\n",
        "     y = [f(xi) for xi in x]\n",
        "     s = sum(y[1:-1])\n",
        "     ans=h/2 * (y[0] + 2*s + y[-1])\n",
        "     return ans"
      ],
      "metadata": {
        "id": "rGd7hwUVwe_5"
      },
      "execution_count": null,
      "outputs": []
    },
    {
      "cell_type": "code",
      "source": [
        "\n",
        "#Example for simple and composite Trapezoidal\n",
        "def f(x):\n",
        "  return(2*x/(x**2-4))\n",
        "strap=comp_trapezoidal_rule(f,1,1.6)\n",
        "print(strap) # gives ans of simple trapezoidal rule\n",
        "ctrap=comp_trapezoidal_rule(f,1,1.6,4)\n",
        "print(ctrap) # gives ans of composite trapezoidal rule with n=4"
      ],
      "metadata": {
        "colab": {
          "base_uri": "https://localhost:8080/"
        },
        "id": "hfmb7T-vw_3d",
        "outputId": "34f92774-05bb-40e2-f2a3-c7899659bb4a"
      },
      "execution_count": null,
      "outputs": [
        {
          "output_type": "stream",
          "name": "stdout",
          "text": [
            "-0.866666666666667\n",
            "-0.7435983879717899\n"
          ]
        }
      ]
    },
    {
      "cell_type": "markdown",
      "source": [
        "**Computing Actual Error for simple and composite trapezoidal rules**\n",
        "\n",
        "\n"
      ],
      "metadata": {
        "id": "4NxU7C5XzpzL"
      }
    },
    {
      "cell_type": "code",
      "source": [
        "print(I_actual-strap)\n",
        "print(I_actual-ctrap)"
      ],
      "metadata": {
        "colab": {
          "base_uri": "https://localhost:8080/"
        },
        "id": "zyB5RzwG0Hmd",
        "outputId": "e41f3e9c-e33a-4bf5-999e-d2872526e9b1"
      },
      "execution_count": null,
      "outputs": [
        {
          "output_type": "stream",
          "name": "stdout",
          "text": [
            "0.13269749158646627\n",
            "0.009629212891589134\n"
          ]
        }
      ]
    },
    {
      "cell_type": "markdown",
      "source": [
        "###**For calculating SimpleTrapezoidal error bound**\n",
        "\n",
        "Working for Question no 3e Exercise 4.3\n",
        "\n"
      ],
      "metadata": {
        "id": "KPKtpCyyjRNY"
      }
    },
    {
      "cell_type": "code",
      "source": [
        "\n",
        "from sympy import* #Call Library of sympy\n",
        "def f(x):\n",
        "  return(2*x/(x**2-4))\n",
        "\n",
        "def Error_bound_trap(f,l,u):#l is the lower limit and u is the upper limit of integral\n",
        "   ddf = diff(f, x,2)    #Evaluating second derivative of f\n",
        "   abs_max_ddf=max(abs(ddf.subs(x,l)),abs(ddf.subs(x,u)))\n",
        "   h=u-l\n",
        "   Error_bound=h**3*abs_max_ddf/12\n",
        "   return(Error_bound,abs_max_ddf)"
      ],
      "metadata": {
        "id": "wAimSO_XjYa2"
      },
      "execution_count": null,
      "outputs": []
    },
    {
      "cell_type": "code",
      "source": [
        "\n",
        "Error_bound_trap(f,1,1.6)\n"
      ],
      "metadata": {
        "id": "cBsX-Hd2k_nK",
        "colab": {
          "base_uri": "https://localhost:8080/"
        },
        "outputId": "cbb3cf89-eb8d-4d11-f8ae-b99660219138"
      },
      "execution_count": null,
      "outputs": [
        {
          "output_type": "execute_result",
          "data": {
            "text/plain": [
              "(0.552960000000000, 30.7200000000000)"
            ]
          },
          "metadata": {},
          "execution_count": 66
        }
      ]
    },
    {
      "cell_type": "markdown",
      "source": [
        "**Task 4: Make a code of composite simpson's 1/3rd rule (set n=2 for simple simpson and raise exception when user enters n=odd value) and run on f(x) mentioned in exercise # 4.2, Question #5c and excercise # 4.3, Question 3e**"
      ],
      "metadata": {
        "id": "mrdwAZMKoUp8"
      }
    },
    {
      "cell_type": "markdown",
      "source": [
        "**For calculating simple Simpson's 1/3rd rule error bound**"
      ],
      "metadata": {
        "id": "swshrTqlqB-J"
      }
    },
    {
      "cell_type": "code",
      "source": [
        "from sympy import* #Call Library of sympy\n",
        "x = symbols('x')   #Make x a symbol  \n",
        "f = x**4       #Define your function here in 'x'\n",
        "def Error_bound_simp(f,l,u):#l is the lower limit and u is the upper limit of integral\n",
        "   d4f = diff(f, x,4)    #Evaluating second derivative of f\n",
        "   abs_max_ddf=max(abs(d4f.subs(x,l)),abs(d4f.subs(x,u)))\n",
        "   h=(u-l)/2\n",
        "   Error_bound=h**5*abs_max_ddf/90\n",
        "   return(Error_bound,abs_max_ddf)"
      ],
      "metadata": {
        "id": "348kqnklnEAj"
      },
      "execution_count": null,
      "outputs": []
    },
    {
      "cell_type": "markdown",
      "source": [
        "**Task 5: Find Error bound for Exercise 4.3 Qno 7 part(a) and (b)**"
      ],
      "metadata": {
        "id": "EQsQbBetMvlK"
      }
    }
  ]
}